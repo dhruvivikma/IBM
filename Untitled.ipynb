{
 "cells": [
  {
   "cell_type": "markdown",
   "id": "86b45e27",
   "metadata": {},
   "source": [
    "# My Jupyter Notebook on IBM Watson Studio"
   ]
  },
  {
   "cell_type": "markdown",
   "id": "c998cdff",
   "metadata": {},
   "source": [
    "**Dhruvi Harendra Vikma**\n",
    "\n",
    "Student"
   ]
  },
  {
   "cell_type": "markdown",
   "id": "38fcaee2",
   "metadata": {},
   "source": [
    "*I am interested in data science because I love playing with data and gaining insights from it.*"
   ]
  },
  {
   "cell_type": "markdown",
   "id": "737c1e54",
   "metadata": {},
   "source": [
    "### The following code calculates factorial for a given number"
   ]
  },
  {
   "cell_type": "code",
   "execution_count": 2,
   "id": "dfcd2229",
   "metadata": {},
   "outputs": [
    {
     "name": "stdout",
     "output_type": "stream",
     "text": [
      "Enter number n for finding factorial:4\n",
      "Factorial is : 24\n"
     ]
    }
   ],
   "source": [
    "n = int(input(\"Enter number n for finding factorial:\"))\n",
    "\n",
    "def find_fact(n):\n",
    "  if n == 0 or n == 1:\n",
    "    return 1\n",
    "  else :\n",
    "    return (n*find_fact(n-1))\n",
    "          \n",
    "\n",
    "print(\"Factorial is :\", find_fact(n))"
   ]
  },
  {
   "cell_type": "markdown",
   "id": "01360f63",
   "metadata": {},
   "source": [
    "<ul>\n",
    "<li>Unordered list item 1</li>\n",
    "<li>Unordered list item 2</li>\n",
    "<li>Unordered list item 3</li>\n",
    "</ul>\n",
    "\n",
    "<ol>\n",
    "<li>Ordered list item 1</li>\n",
    "<li>Ordered list item 2</li>\n",
    "<li>Ordered list item 3</li>\n",
    "</ol>\n",
    "\n",
    "<a href=\"https://www.google.com\" >Google Home Page</a>\n",
    "\n"
   ]
  }
 ],
 "metadata": {
  "kernelspec": {
   "display_name": "Python 3",
   "language": "python",
   "name": "python3"
  },
  "language_info": {
   "codemirror_mode": {
    "name": "ipython",
    "version": 3
   },
   "file_extension": ".py",
   "mimetype": "text/x-python",
   "name": "python",
   "nbconvert_exporter": "python",
   "pygments_lexer": "ipython3",
   "version": "3.6.13"
  }
 },
 "nbformat": 4,
 "nbformat_minor": 5
}
